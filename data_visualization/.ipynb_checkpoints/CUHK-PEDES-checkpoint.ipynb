{
 "cells": [
  {
   "cell_type": "markdown",
   "metadata": {
    "tags": []
   },
   "source": [
    "# Introduction to dataset"
   ]
  },
  {
   "cell_type": "markdown",
   "metadata": {},
   "source": [
    "# Demo in notebook"
   ]
  },
  {
   "cell_type": "markdown",
   "metadata": {
    "tags": []
   },
   "source": [
    "## Set up"
   ]
  },
  {
   "cell_type": "code",
   "execution_count": 77,
   "metadata": {
    "tags": []
   },
   "outputs": [
    {
     "name": "stdout",
     "output_type": "stream",
     "text": [
      "/home/jovyan/workspace/BA-PRE_THESIS/REPORT/data_visualization\n"
     ]
    }
   ],
   "source": [
    "import numpy as np; import pandas as pd\n",
    "from pathlib import Path\n",
    "import os, sys, time, random, math, cv2, PIL, json\n",
    "import matplotlib.pyplot as plt; import seaborn as sns\n",
    "print(os.getcwd())"
   ]
  },
  {
   "cell_type": "code",
   "execution_count": 78,
   "metadata": {
    "tags": []
   },
   "outputs": [
    {
     "data": {
      "text/html": [
       "<div>\n",
       "<style scoped>\n",
       "    .dataframe tbody tr th:only-of-type {\n",
       "        vertical-align: middle;\n",
       "    }\n",
       "\n",
       "    .dataframe tbody tr th {\n",
       "        vertical-align: top;\n",
       "    }\n",
       "\n",
       "    .dataframe thead th {\n",
       "        text-align: right;\n",
       "    }\n",
       "</style>\n",
       "<table border=\"1\" class=\"dataframe\">\n",
       "  <thead>\n",
       "    <tr style=\"text-align: right;\">\n",
       "      <th></th>\n",
       "      <th>id</th>\n",
       "      <th>file_path</th>\n",
       "      <th>captions</th>\n",
       "    </tr>\n",
       "  </thead>\n",
       "  <tbody>\n",
       "    <tr>\n",
       "      <th>0</th>\n",
       "      <td>1</td>\n",
       "      <td>test_query/p10376_s14337.jpg</td>\n",
       "      <td>[She wears a purple long sleeved, ankle length...</td>\n",
       "    </tr>\n",
       "  </tbody>\n",
       "</table>\n",
       "</div>"
      ],
      "text/plain": [
       "   id                     file_path  \\\n",
       "0   1  test_query/p10376_s14337.jpg   \n",
       "\n",
       "                                            captions  \n",
       "0  [She wears a purple long sleeved, ankle length...  "
      ]
     },
     "execution_count": 78,
     "metadata": {},
     "output_type": "execute_result"
    }
   ],
   "source": [
    "ROOT_PATH = Path('../../DATASET/CUHK-PEDES')\n",
    "ROOT_IMG = ROOT_PATH/'imgs'\n",
    "caption_path = os.path.join(ROOT_PATH, \"reid_raw.json\")\n",
    "caption_df = pd.read_json(caption_path)\n",
    "caption_df.head(1)"
   ]
  },
  {
   "cell_type": "markdown",
   "metadata": {},
   "source": [
    "__Split captions array into 2 caption__"
   ]
  },
  {
   "cell_type": "code",
   "execution_count": 79,
   "metadata": {
    "tags": []
   },
   "outputs": [
    {
     "data": {
      "text/html": [
       "<div>\n",
       "<style scoped>\n",
       "    .dataframe tbody tr th:only-of-type {\n",
       "        vertical-align: middle;\n",
       "    }\n",
       "\n",
       "    .dataframe tbody tr th {\n",
       "        vertical-align: top;\n",
       "    }\n",
       "\n",
       "    .dataframe thead th {\n",
       "        text-align: right;\n",
       "    }\n",
       "</style>\n",
       "<table border=\"1\" class=\"dataframe\">\n",
       "  <thead>\n",
       "    <tr style=\"text-align: right;\">\n",
       "      <th></th>\n",
       "      <th>id</th>\n",
       "      <th>image</th>\n",
       "      <th>caption_0</th>\n",
       "      <th>caption_1</th>\n",
       "    </tr>\n",
       "  </thead>\n",
       "  <tbody>\n",
       "    <tr>\n",
       "      <th>0</th>\n",
       "      <td>1</td>\n",
       "      <td>../../DATASET/CUHK-PEDES/imgs/test_query/p1037...</td>\n",
       "      <td>She wears a purple long sleeved, ankle length ...</td>\n",
       "      <td>This woman is heavy set. She is facing to the ...</td>\n",
       "    </tr>\n",
       "  </tbody>\n",
       "</table>\n",
       "</div>"
      ],
      "text/plain": [
       "   id                                              image  \\\n",
       "0   1  ../../DATASET/CUHK-PEDES/imgs/test_query/p1037...   \n",
       "\n",
       "                                           caption_0  \\\n",
       "0  She wears a purple long sleeved, ankle length ...   \n",
       "\n",
       "                                           caption_1  \n",
       "0  This woman is heavy set. She is facing to the ...  "
      ]
     },
     "execution_count": 79,
     "metadata": {},
     "output_type": "execute_result"
    }
   ],
   "source": [
    "caption_extract_0 = lambda x: x[0]\n",
    "caption_extract_1 = lambda x: x[1]\n",
    "filepath_convert = lambda x: os.path.join(ROOT_IMG, x)\n",
    "caption_df[\"caption_0\"] = caption_df[\"captions\"].apply(caption_extract_0)\n",
    "caption_df[\"caption_1\"] = caption_df[\"captions\"].apply(caption_extract_1)\n",
    "caption_df[\"file_path\"] = caption_df[\"file_path\"].apply(filepath_convert)\n",
    "caption_df.rename(columns={\"file_path\": \"image\"}, inplace=True)\n",
    "caption_df.drop(columns=[\"captions\"], inplace=True)\n",
    "caption_df.head(1)"
   ]
  },
  {
   "cell_type": "markdown",
   "metadata": {},
   "source": [
    "## View dataset"
   ]
  },
  {
   "cell_type": "code",
   "execution_count": 80,
   "metadata": {
    "tags": []
   },
   "outputs": [],
   "source": [
    "from IPython.core.display import HTML"
   ]
  },
  {
   "cell_type": "code",
   "execution_count": 83,
   "metadata": {
    "scrolled": true,
    "tags": []
   },
   "outputs": [
    {
     "data": {
      "text/html": [
       "<table border=\"1\" class=\"dataframe\">\n",
       "  <thead>\n",
       "    <tr style=\"text-align: right;\">\n",
       "      <th></th>\n",
       "      <th>id</th>\n",
       "      <th>image</th>\n",
       "      <th>caption_0</th>\n",
       "      <th>caption_1</th>\n",
       "    </tr>\n",
       "  </thead>\n",
       "  <tbody>\n",
       "    <tr>\n",
       "      <th>0</th>\n",
       "      <td>1</td>\n",
       "      <td><img src=\"../../DATASET/CUHK-PEDES/imgs/test_query/p10376_s14337.jpg\" width=\"368\" height=\"768\" ></td>\n",
       "      <td>She wears a purple long sleeved, ankle length dress. There is a pattern on the dress.</td>\n",
       "      <td>This woman is heavy set. She is facing to the left of the camera. She is wearing an ankle length dress and is carrying something in her hand. She has her head down.</td>\n",
       "    </tr>\n",
       "    <tr>\n",
       "      <th>1</th>\n",
       "      <td>1</td>\n",
       "      <td><img src=\"../../DATASET/CUHK-PEDES/imgs/test_query/p10376_s14338.jpg\" width=\"368\" height=\"768\" ></td>\n",
       "      <td>The woman is looking down and carrying a plant. She is wearing a light-colored dress and dark shoes.</td>\n",
       "      <td>The woman has brown greying, curly neck length hair, is wearing a floral hat, above the ankle length long-sleeved dress decorated with numerous purple, pink, and white floral pattern, and brown slippers.</td>\n",
       "    </tr>\n",
       "    <tr>\n",
       "      <th>2</th>\n",
       "      <td>1</td>\n",
       "      <td><img src=\"../../DATASET/CUHK-PEDES/imgs/test_query/p10376_s14339.jpg\" width=\"368\" height=\"768\" ></td>\n",
       "      <td>A woman walking next to an animal wearing a full length dress and dark coloured shoes.</td>\n",
       "      <td>A women wearing a long blue and green dress. She has a pair of sandals on her feet and is walking a dog.</td>\n",
       "    </tr>\n",
       "    <tr>\n",
       "      <th>3</th>\n",
       "      <td>2</td>\n",
       "      <td><img src=\"../../DATASET/CUHK-PEDES/imgs/Market/0585_c1s3_039651_00.jpg\" width=\"368\" height=\"768\" ></td>\n",
       "      <td>The woman is wearing knee-length blue shorts and a green and grey striped shirt. She is holding a white purse in her left hand.</td>\n",
       "      <td>The girl has long black hair with bangs. Her hair is pulled forward on her shoulders. She is wearing a shirt sleeve white and mint green shirt with dark coloured shorts. She us carrying something white in her left hand.</td>\n",
       "    </tr>\n",
       "    <tr>\n",
       "      <th>4</th>\n",
       "      <td>2</td>\n",
       "      <td><img src=\"../../DATASET/CUHK-PEDES/imgs/Market/0585_c6s2_019068_00.jpg\" width=\"368\" height=\"768\" ></td>\n",
       "      <td>The girl has long black hair hanging down, a white shirt, blue knee length shorts, flip flops, and is reading while walking.</td>\n",
       "      <td>The woman has dark hair that reaches past her shoulders. She is wearing a white short sleeved shirt, dark blue jean shorts that end just above her knee with flip flop style sandals. She is looking down at a white object in her hands.</td>\n",
       "    </tr>\n",
       "    <tr>\n",
       "      <th>5</th>\n",
       "      <td>2</td>\n",
       "      <td><img src=\"../../DATASET/CUHK-PEDES/imgs/Market/0585_c3s2_024912_00.jpg\" width=\"368\" height=\"768\" ></td>\n",
       "      <td>The woman is facing away and walking in flip flop sandals. She is wearing dark knee-length shorts with a light-colored short-sleeved top and shoulder-length dark hair.</td>\n",
       "      <td>A woman S long hair falls over her upper back while she is dressed in a shirtsleeve, light-blue top, black shorts ending at her knees, and dark sandals. She is seen from behind walking away with her left heel lifted. Both of her elbows are bent.</td>\n",
       "    </tr>\n",
       "    <tr>\n",
       "      <th>6</th>\n",
       "      <td>2</td>\n",
       "      <td><img src=\"../../DATASET/CUHK-PEDES/imgs/Market/0585_c2s2_022162_00.jpg\" width=\"368\" height=\"768\" ></td>\n",
       "      <td>The woman has straight black hair and is wearing a light green shirt with knee length blue jean shorts.</td>\n",
       "      <td>A woman in a blue shirt, a pair of blue shorts and a pair of Gray shoes.</td>\n",
       "    </tr>\n",
       "    <tr>\n",
       "      <th>7</th>\n",
       "      <td>3</td>\n",
       "      <td><img src=\"../../DATASET/CUHK-PEDES/imgs/test_query/p590_s1110.jpg\" width=\"368\" height=\"768\" ></td>\n",
       "      <td>The man has a white shirt on and black pants. He is wearing blue and white Nike's and also has glasses.</td>\n",
       "      <td>A man wearing a white shirt, a pair of black pants and a pair of shoes.</td>\n",
       "    </tr>\n",
       "    <tr>\n",
       "      <th>8</th>\n",
       "      <td>3</td>\n",
       "      <td><img src=\"../../DATASET/CUHK-PEDES/imgs/test_query/p590_s1109.jpg\" width=\"368\" height=\"768\" ></td>\n",
       "      <td>The guy is wearing a white shirt that has black letters on it and a pair of black pants. He is also wearing blue sneakers.</td>\n",
       "      <td>The man is walking down the street, and wearing glasses. He has on a white zip up shirt and dark pants. He is wearing blue shoes.</td>\n",
       "    </tr>\n",
       "    <tr>\n",
       "      <th>9</th>\n",
       "      <td>4</td>\n",
       "      <td><img src=\"../../DATASET/CUHK-PEDES/imgs/train_query/p3886_s4871.jpg\" width=\"368\" height=\"768\" ></td>\n",
       "      <td>A young woman with long dark hair is wearing a short sleeved white top with a pink decoration, blue jeans and white sneakers is walking in an outdoor area while holding a pink bag.</td>\n",
       "      <td>A skinny woman walks through an alley wearing a white shirt, jeans and tennis shoes.</td>\n",
       "    </tr>\n",
       "    <tr>\n",
       "      <th>10</th>\n",
       "      <td>4</td>\n",
       "      <td><img src=\"../../DATASET/CUHK-PEDES/imgs/train_query/p3886_s4872.jpg\" width=\"368\" height=\"768\" ></td>\n",
       "      <td>A woman wearing a white shirt with a pink design on the front, a pair of blue pants and a pair of white shoes.</td>\n",
       "      <td>She has a short pony tail. She is also wearing a white shirt and blue jeans.</td>\n",
       "    </tr>\n",
       "    <tr>\n",
       "      <th>11</th>\n",
       "      <td>4</td>\n",
       "      <td><img src=\"../../DATASET/CUHK-PEDES/imgs/train_query/p3886_s4873.jpg\" width=\"368\" height=\"768\" ></td>\n",
       "      <td>The woman has black hair in a ponytail. She is in a white t shirt, with blue jeans and white tennis shoes. There is a dark band on her left wrist. She is carrying a pink and purple shopping bag</td>\n",
       "      <td>A woman wearing a white shirt, a pair of blue jeans and a pair of white shoes.</td>\n",
       "    </tr>\n",
       "    <tr>\n",
       "      <th>12</th>\n",
       "      <td>5</td>\n",
       "      <td><img src=\"../../DATASET/CUHK-PEDES/imgs/Market/0900_c6s2_105043_00.jpg\" width=\"368\" height=\"768\" ></td>\n",
       "      <td>The man is walking down the stairs and he is wearing white dress shirt, black pants and black shoes.he is also carrying a black briefcase</td>\n",
       "      <td>He has a white shirt and black pants. He is carrying a bag next to him. He has short hair.</td>\n",
       "    </tr>\n",
       "    <tr>\n",
       "      <th>13</th>\n",
       "      <td>5</td>\n",
       "      <td><img src=\"../../DATASET/CUHK-PEDES/imgs/Market/0900_c1s4_050581_00.jpg\" width=\"368\" height=\"768\" ></td>\n",
       "      <td>The man is wearing a white collared shirt with long black pants and black shoes and holding a black bag.</td>\n",
       "      <td>The brown skin man who is dressing in formal white shirt and for ma blackly pant looks like he is busy going somewhere important. He looks Hispanic because of his brown skin and sleek hairstyle.</td>\n",
       "    </tr>\n",
       "    <tr>\n",
       "      <th>14</th>\n",
       "      <td>5</td>\n",
       "      <td><img src=\"../../DATASET/CUHK-PEDES/imgs/Market/0900_c2s2_108232_00.jpg\" width=\"368\" height=\"768\" ></td>\n",
       "      <td>He has a white shirt, black pants and black shoes. He is carrying a black bag.</td>\n",
       "      <td>A man wearing a white shirt, a pair of black pants and a pair of black shoes on his feet.</td>\n",
       "    </tr>\n",
       "    <tr>\n",
       "      <th>15</th>\n",
       "      <td>5</td>\n",
       "      <td><img src=\"../../DATASET/CUHK-PEDES/imgs/Market/0900_c1s4_050706_00.jpg\" width=\"368\" height=\"768\" ></td>\n",
       "      <td>The man is wearing black pants, a white shirt and black formal shoes. The man is carrying a black duffer bag in his left hand.</td>\n",
       "      <td>A man who is wearing a white shirt, a pair of black pants and a pair of black shoes.</td>\n",
       "    </tr>\n",
       "    <tr>\n",
       "      <th>16</th>\n",
       "      <td>6</td>\n",
       "      <td><img src=\"../../DATASET/CUHK-PEDES/imgs/train_query/p10883_s14802.jpg\" width=\"368\" height=\"768\" ></td>\n",
       "      <td>A woman wearing a green dress with a red tie around her waist, a pair of black tights and a pair of black shoes.</td>\n",
       "      <td>A woman has a pony tail while wearing a printed greenish-brown dress with sleeves below the elbow, a cinched waist and slanted hem in back. She also wears a gold bracelet, black leggings and chunky black ankle boots.</td>\n",
       "    </tr>\n",
       "    <tr>\n",
       "      <th>17</th>\n",
       "      <td>6</td>\n",
       "      <td><img src=\"../../DATASET/CUHK-PEDES/imgs/train_query/p10883_s14803.jpg\" width=\"368\" height=\"768\" ></td>\n",
       "      <td>A woman wearing a yellow and brown blouse with a belt around her waist, a pair of black pants and a pair of Gray boots.</td>\n",
       "      <td>A young woman in a brown dress with dark hair pulled back in a ponytail standing near a car</td>\n",
       "    </tr>\n",
       "    <tr>\n",
       "      <th>18</th>\n",
       "      <td>7</td>\n",
       "      <td><img src=\"../../DATASET/CUHK-PEDES/imgs/test_query/p9728_s16400.jpg\" width=\"368\" height=\"768\" ></td>\n",
       "      <td>He is wearing a light jacket and shirt. He has hair that is close to touching his shoulders. He is carrying books in one arm.</td>\n",
       "      <td>The man wears a black dress suit jacket and grey pants with black shinny dress shoes he walks holding a book in his hand.</td>\n",
       "    </tr>\n",
       "    <tr>\n",
       "      <th>19</th>\n",
       "      <td>7</td>\n",
       "      <td><img src=\"../../DATASET/CUHK-PEDES/imgs/test_query/p9728_s16410.jpg\" width=\"368\" height=\"768\" ></td>\n",
       "      <td>The man has black hair that is a short cut but comes longer in front of the ears. He is wearing a dark blue blazer with Gray slacks. He is also wearing black dress shoes, and carrying a medium sized black leather bag in his right hand.</td>\n",
       "      <td>He is wearing black dress shoes, loose grey slacks, and a white button up shirt with a dark suit jacket on top. He is carrying a black bag in his right hand.</td>\n",
       "    </tr>\n",
       "    <tr>\n",
       "      <th>20</th>\n",
       "      <td>7</td>\n",
       "      <td><img src=\"../../DATASET/CUHK-PEDES/imgs/test_query/p9728_s16411.jpg\" width=\"368\" height=\"768\" ></td>\n",
       "      <td>A man is wearing a black coat and carrying a large bag in his right bag.</td>\n",
       "      <td>The man wears a black blazer and Gray pants. He wears black pants and carries black handbag in one hand.</td>\n",
       "    </tr>\n",
       "    <tr>\n",
       "      <th>21</th>\n",
       "      <td>7</td>\n",
       "      <td><img src=\"../../DATASET/CUHK-PEDES/imgs/test_query/p9728_s16401.jpg\" width=\"368\" height=\"768\" ></td>\n",
       "      <td>A man is wearing grey pants, blue blazer, and what looks like should be a white shirt. Haw is also holding a blue object.</td>\n",
       "      <td>The young man is wearing a grey pair of pants, white shirt and a blue blazer jacket. He is holding some books in his hands.</td>\n",
       "    </tr>\n",
       "    <tr>\n",
       "      <th>22</th>\n",
       "      <td>7</td>\n",
       "      <td><img src=\"../../DATASET/CUHK-PEDES/imgs/test_query/p9728_s16402.jpg\" width=\"368\" height=\"768\" ></td>\n",
       "      <td>A man wearing a dark col or jacket, a pair of dark col or pants and a pair of black shoes.</td>\n",
       "      <td>The man has short hair and long sideburns. He is wearing a dark suit, and a white dress shirt underneath. He is carrying books with him.</td>\n",
       "    </tr>\n",
       "    <tr>\n",
       "      <th>23</th>\n",
       "      <td>7</td>\n",
       "      <td><img src=\"../../DATASET/CUHK-PEDES/imgs/test_query/p9728_s16412.jpg\" width=\"368\" height=\"768\" ></td>\n",
       "      <td>A slender Asian man wearing a dark blue uniform-type outfit with a W badge W appearing on left side of jacket, carrying a brown bag.</td>\n",
       "      <td>This person is wearing a school uniform. He is wearing a blue suit jacket, a red tie, white shirt and Gray pants. His jacket has a gold emblem on it. He is holding a black bag</td>\n",
       "    </tr>\n",
       "    <tr>\n",
       "      <th>24</th>\n",
       "      <td>8</td>\n",
       "      <td><img src=\"../../DATASET/CUHK-PEDES/imgs/train_query/p7772_s10569.jpg\" width=\"368\" height=\"768\" ></td>\n",
       "      <td>A woman wearing a black shirt, a pair of jeans and a pair of shoes on her feet.</td>\n",
       "      <td>A woman carries a square, white shoulder bag in front of her body on her left side while a child stands on the right side. The woman wears a loose, black shirt with white trim along the neckline and sleeve tops, over knee length black pants and pink sandals.</td>\n",
       "    </tr>\n",
       "    <tr>\n",
       "      <th>25</th>\n",
       "      <td>8</td>\n",
       "      <td><img src=\"../../DATASET/CUHK-PEDES/imgs/train_query/p7772_s10570.jpg\" width=\"368\" height=\"768\" ></td>\n",
       "      <td>A woman wearing a black shirt over a white shirt, a pair of blue jeans and a pair of pink shoes.</td>\n",
       "      <td>She has short black hair she is wearing a black shirt and is carrying a white purse.</td>\n",
       "    </tr>\n",
       "    <tr>\n",
       "      <th>26</th>\n",
       "      <td>9</td>\n",
       "      <td><img src=\"../../DATASET/CUHK-PEDES/imgs/train_query/p5442_s6957.jpg\" width=\"368\" height=\"768\" ></td>\n",
       "      <td>Red and white flowing dress; black elastic around the waist; leather white sandals with brown soles</td>\n",
       "      <td>The lady wears pink flowered dress with white sandals as she walks down the steps.</td>\n",
       "    </tr>\n",
       "    <tr>\n",
       "      <th>27</th>\n",
       "      <td>9</td>\n",
       "      <td><img src=\"../../DATASET/CUHK-PEDES/imgs/train_query/p5442_s6967.jpg\" width=\"368\" height=\"768\" ></td>\n",
       "      <td>The little girl wears a pink dress white slippers she walks along the sidewalk holding the adults hand.</td>\n",
       "      <td>The girl is in a pink dress, holding on to the hand of a grownup. She also has white shoes.</td>\n",
       "    </tr>\n",
       "    <tr>\n",
       "      <th>28</th>\n",
       "      <td>9</td>\n",
       "      <td><img src=\"../../DATASET/CUHK-PEDES/imgs/train_query/p5442_s6965.jpg\" width=\"368\" height=\"768\" ></td>\n",
       "      <td>A woman with dark hair is wearing a short sleeved dark red cotton dress that is below the knee.</td>\n",
       "      <td>A woman wearing a red and white dress with a red belt around her waist and a pair of shoes.</td>\n",
       "    </tr>\n",
       "    <tr>\n",
       "      <th>29</th>\n",
       "      <td>9</td>\n",
       "      <td><img src=\"../../DATASET/CUHK-PEDES/imgs/train_query/p5442_s6966.jpg\" width=\"368\" height=\"768\" ></td>\n",
       "      <td>A woman wearing a pink dress with a tie around her waist and a pair of pink shoes.</td>\n",
       "      <td>The girl wears a pink dress. She wears a red belt. She has shoulder length dark hair.</td>\n",
       "    </tr>\n",
       "  </tbody>\n",
       "</table>"
      ],
      "text/plain": [
       "<IPython.core.display.HTML object>"
      ]
     },
     "metadata": {},
     "output_type": "display_data"
    }
   ],
   "source": [
    "def to_img_tag(path):\n",
    "    return '<img src=\"' + path + '\" width=\"368\" height=\"768\" >'\n",
    "\n",
    "display(HTML(caption_df.head(30).to_html(escape=False, formatters=dict(image=to_img_tag))))"
   ]
  }
 ],
 "metadata": {
  "kernelspec": {
   "display_name": "aptm",
   "language": "python",
   "name": "aptm"
  },
  "language_info": {
   "codemirror_mode": {
    "name": "ipython",
    "version": 3
   },
   "file_extension": ".py",
   "mimetype": "text/x-python",
   "name": "python",
   "nbconvert_exporter": "python",
   "pygments_lexer": "ipython3",
   "version": "3.8.18"
  }
 },
 "nbformat": 4,
 "nbformat_minor": 4
}
