{
 "cells": [
  {
   "cell_type": "markdown",
   "metadata": {
    "tags": []
   },
   "source": [
    "# Introduction to dataset"
   ]
  },
  {
   "cell_type": "markdown",
   "metadata": {},
   "source": [
    "# Demo in notebook"
   ]
  },
  {
   "cell_type": "markdown",
   "metadata": {
    "tags": []
   },
   "source": [
    "## Set up"
   ]
  },
  {
   "cell_type": "code",
   "execution_count": 1,
   "metadata": {
    "tags": []
   },
   "outputs": [
    {
     "name": "stdout",
     "output_type": "stream",
     "text": [
      "/dscilab_dungvo/workspace/BA-PRE_THESIS/report/data_visualization\n"
     ]
    }
   ],
   "source": [
    "import numpy as np; import pandas as pd\n",
    "from pathlib import Path\n",
    "import os, sys, time, random, math, cv2, PIL, json\n",
    "import matplotlib.pyplot as plt; import seaborn as sns\n",
    "print(os.getcwd())"
   ]
  },
  {
   "cell_type": "code",
   "execution_count": 2,
   "metadata": {
    "tags": []
   },
   "outputs": [
    {
     "data": {
      "text/html": [
       "<div>\n",
       "<style scoped>\n",
       "    .dataframe tbody tr th:only-of-type {\n",
       "        vertical-align: middle;\n",
       "    }\n",
       "\n",
       "    .dataframe tbody tr th {\n",
       "        vertical-align: top;\n",
       "    }\n",
       "\n",
       "    .dataframe thead th {\n",
       "        text-align: right;\n",
       "    }\n",
       "</style>\n",
       "<table border=\"1\" class=\"dataframe\">\n",
       "  <thead>\n",
       "    <tr style=\"text-align: right;\">\n",
       "      <th></th>\n",
       "      <th>id</th>\n",
       "      <th>file_path</th>\n",
       "      <th>captions</th>\n",
       "    </tr>\n",
       "  </thead>\n",
       "  <tbody>\n",
       "    <tr>\n",
       "      <th>0</th>\n",
       "      <td>1</td>\n",
       "      <td>test_query/p10376_s14337.jpg</td>\n",
       "      <td>[She wears a purple long sleeved, ankle length...</td>\n",
       "    </tr>\n",
       "    <tr>\n",
       "      <th>1</th>\n",
       "      <td>1</td>\n",
       "      <td>test_query/p10376_s14338.jpg</td>\n",
       "      <td>[The woman is looking down and carrying a plan...</td>\n",
       "    </tr>\n",
       "    <tr>\n",
       "      <th>2</th>\n",
       "      <td>1</td>\n",
       "      <td>test_query/p10376_s14339.jpg</td>\n",
       "      <td>[A woman walking next to an animal wearing a f...</td>\n",
       "    </tr>\n",
       "  </tbody>\n",
       "</table>\n",
       "</div>"
      ],
      "text/plain": [
       "   id                     file_path  \\\n",
       "0   1  test_query/p10376_s14337.jpg   \n",
       "1   1  test_query/p10376_s14338.jpg   \n",
       "2   1  test_query/p10376_s14339.jpg   \n",
       "\n",
       "                                            captions  \n",
       "0  [She wears a purple long sleeved, ankle length...  \n",
       "1  [The woman is looking down and carrying a plan...  \n",
       "2  [A woman walking next to an animal wearing a f...  "
      ]
     },
     "execution_count": 2,
     "metadata": {},
     "output_type": "execute_result"
    }
   ],
   "source": [
    "ROOT_PATH = Path('../../dataset_finetuning/CUHK-PEDES')\n",
    "ROOT_IMG = ROOT_PATH/'imgs'\n",
    "caption_path = os.path.join(ROOT_PATH, \"reid_raw.json\")\n",
    "caption_df = pd.read_json(caption_path)\n",
    "caption_df.head(3)"
   ]
  },
  {
   "cell_type": "markdown",
   "metadata": {},
   "source": [
    "__Split captions array into 2 caption__"
   ]
  },
  {
   "cell_type": "code",
   "execution_count": 3,
   "metadata": {
    "tags": []
   },
   "outputs": [
    {
     "data": {
      "text/html": [
       "<div>\n",
       "<style scoped>\n",
       "    .dataframe tbody tr th:only-of-type {\n",
       "        vertical-align: middle;\n",
       "    }\n",
       "\n",
       "    .dataframe tbody tr th {\n",
       "        vertical-align: top;\n",
       "    }\n",
       "\n",
       "    .dataframe thead th {\n",
       "        text-align: right;\n",
       "    }\n",
       "</style>\n",
       "<table border=\"1\" class=\"dataframe\">\n",
       "  <thead>\n",
       "    <tr style=\"text-align: right;\">\n",
       "      <th></th>\n",
       "      <th>image</th>\n",
       "      <th>caption_0</th>\n",
       "      <th>caption_1</th>\n",
       "    </tr>\n",
       "    <tr>\n",
       "      <th>id</th>\n",
       "      <th></th>\n",
       "      <th></th>\n",
       "      <th></th>\n",
       "    </tr>\n",
       "  </thead>\n",
       "  <tbody>\n",
       "    <tr>\n",
       "      <th>1</th>\n",
       "      <td>../../dataset_finetuning/CUHK-PEDES/imgs/test_...</td>\n",
       "      <td>She wears a purple long sleeved, ankle length ...</td>\n",
       "      <td>This woman is heavy set. She is facing to the ...</td>\n",
       "    </tr>\n",
       "  </tbody>\n",
       "</table>\n",
       "</div>"
      ],
      "text/plain": [
       "                                                image  \\\n",
       "id                                                      \n",
       "1   ../../dataset_finetuning/CUHK-PEDES/imgs/test_...   \n",
       "\n",
       "                                            caption_0  \\\n",
       "id                                                      \n",
       "1   She wears a purple long sleeved, ankle length ...   \n",
       "\n",
       "                                            caption_1  \n",
       "id                                                     \n",
       "1   This woman is heavy set. She is facing to the ...  "
      ]
     },
     "execution_count": 3,
     "metadata": {},
     "output_type": "execute_result"
    }
   ],
   "source": [
    "caption_extract_0 = lambda x: x[0]\n",
    "caption_extract_1 = lambda x: x[1]\n",
    "filepath_convert = lambda x: os.path.join(ROOT_IMG, x)\n",
    "caption_df[\"caption_0\"] = caption_df[\"captions\"].apply(caption_extract_0)\n",
    "caption_df[\"caption_1\"] = caption_df[\"captions\"].apply(caption_extract_1)\n",
    "caption_df[\"file_path\"] = caption_df[\"file_path\"].apply(filepath_convert)\n",
    "caption_df.rename(columns={\"file_path\": \"image\"}, inplace=True)\n",
    "caption_df.drop(columns=[\"captions\"], inplace=True)\n",
    "caption_df.set_index(\"id\", inplace = True)\n",
    "caption_df.head(1)"
   ]
  },
  {
   "cell_type": "markdown",
   "metadata": {},
   "source": [
    "## View dataset"
   ]
  },
  {
   "cell_type": "code",
   "execution_count": 32,
   "metadata": {
    "tags": []
   },
   "outputs": [],
   "source": [
    "from IPython.core.display import HTML"
   ]
  },
  {
   "cell_type": "code",
   "execution_count": 75,
   "metadata": {
    "scrolled": true,
    "tags": []
   },
   "outputs": [],
   "source": [
    "def to_img_tag(path):\n",
    "    return '<img src=\"' + path + '\" width=\"50\" height=\"110\" >'\n",
    "\n",
    "\n",
    "html_display = HTML(caption_df.sample(10).to_html(escape=False, formatters=dict(image=to_img_tag)))\n",
    "\n",
    "# display with half fontsize\n",
    "html_display.data = html_display.data.replace('th>', 'th style=\"font-size: 13px\">')\n",
    "html_display.data = html_display.data.replace('td>', 'th style=\"font-size: 14px\">')\n"
   ]
  },
  {
   "cell_type": "code",
   "execution_count": 76,
   "metadata": {},
   "outputs": [
    {
     "data": {
      "text/html": [
       "<table border=\"1\" class=\"dataframe\">\n",
       "  <thead>\n",
       "    <tr style=\"text-align: right;\">\n",
       "      <th style=\"font-size: 13px\"></th style=\"font-size: 13px\">\n",
       "      <th style=\"font-size: 13px\">image</th style=\"font-size: 13px\">\n",
       "      <th style=\"font-size: 13px\">caption_0</th style=\"font-size: 13px\">\n",
       "      <th style=\"font-size: 13px\">caption_1</th style=\"font-size: 13px\">\n",
       "    </tr>\n",
       "    <tr>\n",
       "      <th style=\"font-size: 13px\">id</th style=\"font-size: 13px\">\n",
       "      <th style=\"font-size: 13px\"></th style=\"font-size: 13px\">\n",
       "      <th style=\"font-size: 13px\"></th style=\"font-size: 13px\">\n",
       "      <th style=\"font-size: 13px\"></th style=\"font-size: 13px\">\n",
       "    </tr>\n",
       "  </thead>\n",
       "  <tbody>\n",
       "    <tr>\n",
       "      <th style=\"font-size: 13px\">3149</th style=\"font-size: 13px\">\n",
       "      <th style=\"font-size: 14px\"><img src=\"../../dataset_finetuning/CUHK-PEDES/imgs/test_query/p11608_s14891.jpg\" width=\"50\" height=\"110\" ></th style=\"font-size: 14px\">\n",
       "      <th style=\"font-size: 14px\">A child with a suit on that is black and a white shirt on and short black hair cut and a black tie</th style=\"font-size: 14px\">\n",
       "      <th style=\"font-size: 14px\">A young man wearing a dark coat and dark pants with a white shirt and dark shoes.</th style=\"font-size: 14px\">\n",
       "    </tr>\n",
       "    <tr>\n",
       "      <th style=\"font-size: 13px\">5277</th style=\"font-size: 13px\">\n",
       "      <th style=\"font-size: 14px\"><img src=\"../../dataset_finetuning/CUHK-PEDES/imgs/train_query/p8109_s10889.jpg\" width=\"50\" height=\"110\" ></th style=\"font-size: 14px\">\n",
       "      <th style=\"font-size: 14px\">A man wearing a white shirt, a pair of black pants and a pair of black shoes.</th style=\"font-size: 14px\">\n",
       "      <th style=\"font-size: 14px\">This manias black hair and is wearing a white shirt. He is holding a purple item in his right hand.</th style=\"font-size: 14px\">\n",
       "    </tr>\n",
       "    <tr>\n",
       "      <th style=\"font-size: 13px\">7744</th style=\"font-size: 13px\">\n",
       "      <th style=\"font-size: 14px\"><img src=\"../../dataset_finetuning/CUHK-PEDES/imgs/train_query/p6478_s8540.jpg\" width=\"50\" height=\"110\" ></th style=\"font-size: 14px\">\n",
       "      <th style=\"font-size: 14px\">She has shoulder length lack hair and is wearing a white shirt. She is also carrying a pink purse.</th style=\"font-size: 14px\">\n",
       "      <th style=\"font-size: 14px\">A woman wears a white shirt covered in a dark, dotted print over slim jeans and black running shoes while she carries a red bag over her left shoulder and wears a wristband over her left hand.</th style=\"font-size: 14px\">\n",
       "    </tr>\n",
       "    <tr>\n",
       "      <th style=\"font-size: 13px\">6369</th style=\"font-size: 13px\">\n",
       "      <th style=\"font-size: 14px\"><img src=\"../../dataset_finetuning/CUHK-PEDES/imgs/train_query/p6809_s9036.jpg\" width=\"50\" height=\"110\" ></th style=\"font-size: 14px\">\n",
       "      <th style=\"font-size: 14px\">A woman wearing a white shirt, a pair of blue jeans and a pair of Gray shoes.</th style=\"font-size: 14px\">\n",
       "      <th style=\"font-size: 14px\">A woman wears a curved, black backpack over her back with the straps spread across her shoulders. She wears a white shirt with light-blue stripes over black pants and dark shoes.</th style=\"font-size: 14px\">\n",
       "    </tr>\n",
       "    <tr>\n",
       "      <th style=\"font-size: 13px\">11754</th style=\"font-size: 13px\">\n",
       "      <th style=\"font-size: 14px\"><img src=\"../../dataset_finetuning/CUHK-PEDES/imgs/train_query/p8493_s17242.jpg\" width=\"50\" height=\"110\" ></th style=\"font-size: 14px\">\n",
       "      <th style=\"font-size: 14px\">The man has short dark hair. He is wearing a black short sleeve polo shirt, blue jeans, and black shoes. He has on a belt, and is holding a baseball bat.</th style=\"font-size: 14px\">\n",
       "      <th style=\"font-size: 14px\">A man wearing a black shirt, a pair of blue jeans and a pair of black shoes.</th style=\"font-size: 14px\">\n",
       "    </tr>\n",
       "    <tr>\n",
       "      <th style=\"font-size: 13px\">9635</th style=\"font-size: 13px\">\n",
       "      <th style=\"font-size: 14px\"><img src=\"../../dataset_finetuning/CUHK-PEDES/imgs/train_query/p8945_s17801.jpg\" width=\"50\" height=\"110\" ></th style=\"font-size: 14px\">\n",
       "      <th style=\"font-size: 14px\">The young man has very short, dark hair. He is stepping forward with his left leg and looking straight ahead.</th style=\"font-size: 14px\">\n",
       "      <th style=\"font-size: 14px\">The man is walking down the runway wearing a black jacket, Gray and navy button up shirt and a navy under shirt. His jeans are bunched up to his calves and he has black boots on.</th style=\"font-size: 14px\">\n",
       "    </tr>\n",
       "    <tr>\n",
       "      <th style=\"font-size: 13px\">1905</th style=\"font-size: 13px\">\n",
       "      <th style=\"font-size: 14px\"><img src=\"../../dataset_finetuning/CUHK-PEDES/imgs/train_query/p683_s1279.jpg\" width=\"50\" height=\"110\" ></th style=\"font-size: 14px\">\n",
       "      <th style=\"font-size: 14px\">The woman has long black hair. She is wearing a white short sleeve shirt, white patterned shorts, and tan shoes.</th style=\"font-size: 14px\">\n",
       "      <th style=\"font-size: 14px\">The woman wears a white shirt and yellow and white patterned shorts. She wears black shoes and looks down at her phone.</th style=\"font-size: 14px\">\n",
       "    </tr>\n",
       "    <tr>\n",
       "      <th style=\"font-size: 13px\">4747</th style=\"font-size: 13px\">\n",
       "      <th style=\"font-size: 14px\"><img src=\"../../dataset_finetuning/CUHK-PEDES/imgs/CUHK03/200_4.jpg\" width=\"50\" height=\"110\" ></th style=\"font-size: 14px\">\n",
       "      <th style=\"font-size: 14px\">The woman is wearing a black jacket over a black and white striped shirt with dark jeans and white shoes and is carrying a purse.</th style=\"font-size: 14px\">\n",
       "      <th style=\"font-size: 14px\">Asian adult female. Aged 25-35. wearing black sweater with a stripped white/black shirt underneath. Black pants and white shoes. Short black hair average build</th style=\"font-size: 14px\">\n",
       "    </tr>\n",
       "    <tr>\n",
       "      <th style=\"font-size: 13px\">11323</th style=\"font-size: 13px\">\n",
       "      <th style=\"font-size: 14px\"><img src=\"../../dataset_finetuning/CUHK-PEDES/imgs/CUHK03/671_2.jpg\" width=\"50\" height=\"110\" ></th style=\"font-size: 14px\">\n",
       "      <th style=\"font-size: 14px\">The woman is wearing a printed negligee with a forest green sweater over it, she wears white sandals and holds a brown purse.</th style=\"font-size: 14px\">\n",
       "      <th style=\"font-size: 14px\">The lady is wearing a dark coloured blouse with a black cardigan over it and black shorts. She is holding a big shopping bag and a purple flat bag.</th style=\"font-size: 14px\">\n",
       "    </tr>\n",
       "    <tr>\n",
       "      <th style=\"font-size: 13px\">12777</th style=\"font-size: 13px\">\n",
       "      <th style=\"font-size: 14px\"><img src=\"../../dataset_finetuning/CUHK-PEDES/imgs/train_query/p9280_s18202.jpg\" width=\"50\" height=\"110\" ></th style=\"font-size: 14px\">\n",
       "      <th style=\"font-size: 14px\">A man wearing a black shirt, a white jacket, a pair of white pants and a pair of white shoes.</th style=\"font-size: 14px\">\n",
       "      <th style=\"font-size: 14px\">A gentleman is wearing a matching white jacket, white pants, a pair of white shoes with a black shirt.</th style=\"font-size: 14px\">\n",
       "    </tr>\n",
       "  </tbody>\n",
       "</table>"
      ],
      "text/plain": [
       "<IPython.core.display.HTML object>"
      ]
     },
     "execution_count": 76,
     "metadata": {},
     "output_type": "execute_result"
    }
   ],
   "source": [
    "html_display"
   ]
  },
  {
   "cell_type": "code",
   "execution_count": 41,
   "metadata": {},
   "outputs": [],
   "source": [
    "# export html to file\n",
    "html_display_file = \"caption_df_sample.html\"\n",
    "html_display_file_path = os.path.join('./', html_display_file)\n",
    "with open(html_display_file_path, \"w\") as f:\n",
    "    f.write(html_display.data)"
   ]
  },
  {
   "cell_type": "code",
   "execution_count": null,
   "metadata": {},
   "outputs": [],
   "source": []
  }
 ],
 "metadata": {
  "kernelspec": {
   "display_name": "Python 3",
   "language": "python",
   "name": "python3"
  },
  "language_info": {
   "codemirror_mode": {
    "name": "ipython",
    "version": 3
   },
   "file_extension": ".py",
   "mimetype": "text/x-python",
   "name": "python",
   "nbconvert_exporter": "python",
   "pygments_lexer": "ipython3",
   "version": "3.9.18"
  }
 },
 "nbformat": 4,
 "nbformat_minor": 4
}
