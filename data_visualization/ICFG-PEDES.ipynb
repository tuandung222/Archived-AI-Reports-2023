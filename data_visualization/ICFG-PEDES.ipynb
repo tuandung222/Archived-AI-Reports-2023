{
 "cells": [
  {
   "cell_type": "markdown",
   "metadata": {
    "tags": []
   },
   "source": [
    "# Introduction to dataset"
   ]
  },
  {
   "cell_type": "markdown",
   "metadata": {},
   "source": [
    "..."
   ]
  },
  {
   "cell_type": "markdown",
   "metadata": {},
   "source": [
    "# Demo in notebook"
   ]
  },
  {
   "cell_type": "markdown",
   "metadata": {
    "tags": []
   },
   "source": [
    "## Set up"
   ]
  },
  {
   "cell_type": "code",
   "execution_count": 11,
   "metadata": {
    "tags": []
   },
   "outputs": [
    {
     "name": "stdout",
     "output_type": "stream",
     "text": [
      "/dscilab_dungvo/workspace/BA-PRE_THESIS/report/data_visualization\n"
     ]
    }
   ],
   "source": [
    "import numpy as np; import pandas as pd\n",
    "from pathlib import Path\n",
    "import os, sys, time, random, math, cv2, PIL, json\n",
    "import matplotlib.pyplot as plt; import seaborn as sns\n",
    "print(os.getcwd())"
   ]
  },
  {
   "cell_type": "code",
   "execution_count": 12,
   "metadata": {
    "tags": []
   },
   "outputs": [
    {
     "data": {
      "text/html": [
       "<div>\n",
       "<style scoped>\n",
       "    .dataframe tbody tr th:only-of-type {\n",
       "        vertical-align: middle;\n",
       "    }\n",
       "\n",
       "    .dataframe tbody tr th {\n",
       "        vertical-align: top;\n",
       "    }\n",
       "\n",
       "    .dataframe thead th {\n",
       "        text-align: right;\n",
       "    }\n",
       "</style>\n",
       "<table border=\"1\" class=\"dataframe\">\n",
       "  <thead>\n",
       "    <tr style=\"text-align: right;\">\n",
       "      <th></th>\n",
       "      <th>split</th>\n",
       "      <th>file_path</th>\n",
       "      <th>id</th>\n",
       "      <th>processed_tokens</th>\n",
       "      <th>captions</th>\n",
       "    </tr>\n",
       "  </thead>\n",
       "  <tbody>\n",
       "    <tr>\n",
       "      <th>0</th>\n",
       "      <td>train</td>\n",
       "      <td>test/0627/0627_010_05_0303afternoon_1591_0.jpg</td>\n",
       "      <td>0</td>\n",
       "      <td>[[A, young, age, woman, has, black, shoulder-l...</td>\n",
       "      <td>[A young age woman has black shoulder-length h...</td>\n",
       "    </tr>\n",
       "  </tbody>\n",
       "</table>\n",
       "</div>"
      ],
      "text/plain": [
       "   split                                       file_path  id  \\\n",
       "0  train  test/0627/0627_010_05_0303afternoon_1591_0.jpg   0   \n",
       "\n",
       "                                    processed_tokens  \\\n",
       "0  [[A, young, age, woman, has, black, shoulder-l...   \n",
       "\n",
       "                                            captions  \n",
       "0  [A young age woman has black shoulder-length h...  "
      ]
     },
     "execution_count": 12,
     "metadata": {},
     "output_type": "execute_result"
    }
   ],
   "source": [
    "# ROOT_PATH = Path('../../DATASET/ICFG-PEDES')\n",
    "\n",
    "\n",
    "ROOT_PATH = Path('../../dataset_finetuning/ICFG-PEDES')\n",
    "\n",
    "ROOT_IMG = ROOT_PATH/'imgs'\n",
    "caption_path = os.path.join(ROOT_PATH, \"ICFG-PEDES.json\")\n",
    "caption_df = pd.read_json(caption_path)\n",
    "caption_df.head(1)"
   ]
  },
  {
   "cell_type": "markdown",
   "metadata": {},
   "source": [
    "__Split captions array into 2 caption__"
   ]
  },
  {
   "cell_type": "code",
   "execution_count": 13,
   "metadata": {
    "tags": []
   },
   "outputs": [
    {
     "data": {
      "text/html": [
       "<div>\n",
       "<style scoped>\n",
       "    .dataframe tbody tr th:only-of-type {\n",
       "        vertical-align: middle;\n",
       "    }\n",
       "\n",
       "    .dataframe tbody tr th {\n",
       "        vertical-align: top;\n",
       "    }\n",
       "\n",
       "    .dataframe thead th {\n",
       "        text-align: right;\n",
       "    }\n",
       "</style>\n",
       "<table border=\"1\" class=\"dataframe\">\n",
       "  <thead>\n",
       "    <tr style=\"text-align: right;\">\n",
       "      <th></th>\n",
       "      <th>image</th>\n",
       "      <th>captions</th>\n",
       "    </tr>\n",
       "    <tr>\n",
       "      <th>id</th>\n",
       "      <th></th>\n",
       "      <th></th>\n",
       "    </tr>\n",
       "  </thead>\n",
       "  <tbody>\n",
       "    <tr>\n",
       "      <th>0</th>\n",
       "      <td>../../dataset_finetuning/ICFG-PEDES/imgs/test/...</td>\n",
       "      <td>A young age woman has black shoulder-length ha...</td>\n",
       "    </tr>\n",
       "  </tbody>\n",
       "</table>\n",
       "</div>"
      ],
      "text/plain": [
       "                                                image  \\\n",
       "id                                                      \n",
       "0   ../../dataset_finetuning/ICFG-PEDES/imgs/test/...   \n",
       "\n",
       "                                             captions  \n",
       "id                                                     \n",
       "0   A young age woman has black shoulder-length ha...  "
      ]
     },
     "execution_count": 13,
     "metadata": {},
     "output_type": "execute_result"
    }
   ],
   "source": [
    "filepath_convert = lambda x: os.path.join(ROOT_IMG, x)\n",
    "caption_df[\"file_path\"] = caption_df[\"file_path\"].apply(filepath_convert)\n",
    "caption_df.rename(columns={\"file_path\": \"image\"}, inplace=True)\n",
    "caption_df.set_index(\"id\", inplace=True)\n",
    "caption_df.drop(columns=[\"processed_tokens\"], inplace=True)\n",
    "caption_df.drop(columns=[\"split\"], inplace=True)\n",
    "caption_df[\"captions\"] = caption_df[\"captions\"].apply(lambda x: x[0])\n",
    "caption_df.head(1)"
   ]
  },
  {
   "cell_type": "markdown",
   "metadata": {},
   "source": [
    "## View dataset"
   ]
  },
  {
   "cell_type": "code",
   "execution_count": 14,
   "metadata": {
    "tags": []
   },
   "outputs": [],
   "source": [
    "from IPython.core.display import HTML"
   ]
  },
  {
   "cell_type": "code",
   "execution_count": 15,
   "metadata": {
    "tags": []
   },
   "outputs": [],
   "source": [
    "def to_img_tag(path):\n",
    "    return '<img src=\"' + path + '\" width=\"368\" height=\"768\" >'\n",
    "\n",
    "# display(HTML(caption_df.head(70).to_html(escape=False, formatters=dict(image=to_img_tag))))"
   ]
  },
  {
   "cell_type": "code",
   "execution_count": 26,
   "metadata": {},
   "outputs": [],
   "source": [
    "def to_img_tag(path):\n",
    "    return '<img src=\"' + path + '\" width=\"50\" height=\"100\" >'\n",
    "\n",
    "\n",
    "html_display = HTML(caption_df.sample(10).to_html(escape=False, formatters=dict(image=to_img_tag)))\n",
    "\n",
    "# display with half fontsize\n",
    "html_display.data = html_display.data.replace('th>', 'th style=\"font-size: 13px\">')\n",
    "html_display.data = html_display.data.replace('td>', 'th style=\"font-size: 14px\">')"
   ]
  },
  {
   "cell_type": "code",
   "execution_count": 27,
   "metadata": {},
   "outputs": [
    {
     "data": {
      "text/html": [
       "<table border=\"1\" class=\"dataframe\">\n",
       "  <thead>\n",
       "    <tr style=\"text-align: right;\">\n",
       "      <th style=\"font-size: 13px\"></th style=\"font-size: 13px\">\n",
       "      <th style=\"font-size: 13px\">image</th style=\"font-size: 13px\">\n",
       "      <th style=\"font-size: 13px\">captions</th style=\"font-size: 13px\">\n",
       "    </tr>\n",
       "    <tr>\n",
       "      <th style=\"font-size: 13px\">id</th style=\"font-size: 13px\">\n",
       "      <th style=\"font-size: 13px\"></th style=\"font-size: 13px\">\n",
       "      <th style=\"font-size: 13px\"></th style=\"font-size: 13px\">\n",
       "    </tr>\n",
       "  </thead>\n",
       "  <tbody>\n",
       "    <tr>\n",
       "      <th style=\"font-size: 13px\">2440</th style=\"font-size: 13px\">\n",
       "      <th style=\"font-size: 14px\"><img src=\"../../dataset_finetuning/ICFG-PEDES/imgs/train/0914/0914_017_05_0114noon_1632_1_ex.jpg\" width=\"50\" height=\"100\" ></th style=\"font-size: 14px\">\n",
       "      <th style=\"font-size: 14px\">A woman with black hair is wearing a white and gray puffer hooded jacket. She is also wearing a pair of dark blue jeans and black and white sneakers with grey soles.</th style=\"font-size: 14px\">\n",
       "    </tr>\n",
       "    <tr>\n",
       "      <th style=\"font-size: 13px\">2169</th style=\"font-size: 13px\">\n",
       "      <th style=\"font-size: 14px\"><img src=\"../../dataset_finetuning/ICFG-PEDES/imgs/train/0102/0102_011_07_0303morning_1737_1_ex.jpg\" width=\"50\" height=\"100\" ></th style=\"font-size: 14px\">\n",
       "      <th style=\"font-size: 14px\">A middle-aged woman with long black silk hair is wearing a red hooded insulated jacket. She is wearing black leggings with red and white sneakers and white socks. She is holding a grey handbag with a black pattern and black strap. She is also wearing black gloves and holding a mobile.</th style=\"font-size: 14px\">\n",
       "    </tr>\n",
       "    <tr>\n",
       "      <th style=\"font-size: 13px\">3815</th style=\"font-size: 13px\">\n",
       "      <th style=\"font-size: 14px\"><img src=\"../../dataset_finetuning/ICFG-PEDES/imgs/test/2865/2865_002_14_0114afternoon_0834_0.jpg\" width=\"50\" height=\"100\" ></th style=\"font-size: 14px\">\n",
       "      <th style=\"font-size: 14px\">A tall man in his thirties with short black hair is wearing a blue thermal jacket. He is also wearing a pair of faded blue jeans and white sneakers with gray shade.</th style=\"font-size: 14px\">\n",
       "    </tr>\n",
       "    <tr>\n",
       "      <th style=\"font-size: 13px\">3459</th style=\"font-size: 13px\">\n",
       "      <th style=\"font-size: 14px\"><img src=\"../../dataset_finetuning/ICFG-PEDES/imgs/test/1602/1602_007_13_0113afternoon_0564_0.jpg\" width=\"50\" height=\"100\" ></th style=\"font-size: 14px\">\n",
       "      <th style=\"font-size: 14px\">A woman in her twenties with shoulder-length black hair is wearing an orange parka jacket and a pair of fitted blue jeans. She is also wearing a pair of gray sneakers with white soles.</th style=\"font-size: 14px\">\n",
       "    </tr>\n",
       "    <tr>\n",
       "      <th style=\"font-size: 13px\">2720</th style=\"font-size: 13px\">\n",
       "      <th style=\"font-size: 14px\"><img src=\"../../dataset_finetuning/ICFG-PEDES/imgs/test/1809/1809_030_14_0302morning_0346_0_ex.jpg\" width=\"50\" height=\"100\" ></th style=\"font-size: 14px\">\n",
       "      <th style=\"font-size: 14px\">A young girl having black straight long hair tied in a ponytail with a red scarf wrapped around her neck. She is wearing a grey overcoat with blue denim jeans and white sneakers. A bag is hanging on her shoulder.</th style=\"font-size: 14px\">\n",
       "    </tr>\n",
       "    <tr>\n",
       "      <th style=\"font-size: 13px\">2674</th style=\"font-size: 13px\">\n",
       "      <th style=\"font-size: 14px\"><img src=\"../../dataset_finetuning/ICFG-PEDES/imgs/train/0667/0667_012_12_0302noon_1396_0.jpg\" width=\"50\" height=\"100\" ></th style=\"font-size: 14px\">\n",
       "      <th style=\"font-size: 14px\">A man in his twenties with short black hair is wearing a white hoodie jacket and a green jacket. He is also wearing black pants and grey sneakers. He is holding a paper.</th style=\"font-size: 14px\">\n",
       "    </tr>\n",
       "    <tr>\n",
       "      <th style=\"font-size: 13px\">3219</th style=\"font-size: 13px\">\n",
       "      <th style=\"font-size: 14px\"><img src=\"../../dataset_finetuning/ICFG-PEDES/imgs/train/0940/0940_033_06_0114noon_1509_0.jpg\" width=\"50\" height=\"100\" ></th style=\"font-size: 14px\">\n",
       "      <th style=\"font-size: 14px\">A man in his thirties is wearing a maroon beanie and a green scarf around his neck. He is also wearing a blue puffer jacket and brown pants. He is wearing brown boots and has a black cross body bag strapped across his shoulder. He is carrying a brown box in his hands.</th style=\"font-size: 14px\">\n",
       "    </tr>\n",
       "    <tr>\n",
       "      <th style=\"font-size: 13px\">1270</th style=\"font-size: 13px\">\n",
       "      <th style=\"font-size: 14px\"><img src=\"../../dataset_finetuning/ICFG-PEDES/imgs/test/2505/2505_013_14_0114morning_1420_1_ex.jpg\" width=\"50\" height=\"100\" ></th style=\"font-size: 14px\">\n",
       "      <th style=\"font-size: 14px\">A woman in her thirties with long black hair tied in a ponytail is wearing a white puffer down coat. She is also wearing blue denim jeans and a pair of black running shoes. She is carrying a paper in her hand.</th style=\"font-size: 14px\">\n",
       "    </tr>\n",
       "    <tr>\n",
       "      <th style=\"font-size: 13px\">1102</th style=\"font-size: 13px\">\n",
       "      <th style=\"font-size: 14px\"><img src=\"../../dataset_finetuning/ICFG-PEDES/imgs/test/0142/0142_002_01_0303morning_0725_1_ex.jpg\" width=\"50\" height=\"100\" ></th style=\"font-size: 14px\">\n",
       "      <th style=\"font-size: 14px\">A middle-aged woman with medium length black hair is wearing a pink scarf around her neck and a hooded white medium-length parka jacket. She is pairing it with black leggings and gray rubber shoes with grey-black soles. Her hand is in her pocket and carrying white ploy bag in her hand.</th style=\"font-size: 14px\">\n",
       "    </tr>\n",
       "    <tr>\n",
       "      <th style=\"font-size: 13px\">3426</th style=\"font-size: 13px\">\n",
       "      <th style=\"font-size: 14px\"><img src=\"../../dataset_finetuning/ICFG-PEDES/imgs/test/1759/1759_034_12_0302morning_0350_1.jpg\" width=\"50\" height=\"100\" ></th style=\"font-size: 14px\">\n",
       "      <th style=\"font-size: 14px\">A middle-aged man with black short hair and he is wearing a black jacket with blue pants carrying a black handbag.</th style=\"font-size: 14px\">\n",
       "    </tr>\n",
       "  </tbody>\n",
       "</table>"
      ],
      "text/plain": [
       "<IPython.core.display.HTML object>"
      ]
     },
     "execution_count": 27,
     "metadata": {},
     "output_type": "execute_result"
    }
   ],
   "source": [
    "html_display"
   ]
  },
  {
   "cell_type": "code",
   "execution_count": null,
   "metadata": {},
   "outputs": [],
   "source": []
  }
 ],
 "metadata": {
  "kernelspec": {
   "display_name": "Python 3 (ipykernel)",
   "language": "python",
   "name": "python3"
  },
  "language_info": {
   "codemirror_mode": {
    "name": "ipython",
    "version": 3
   },
   "file_extension": ".py",
   "mimetype": "text/x-python",
   "name": "python",
   "nbconvert_exporter": "python",
   "pygments_lexer": "ipython3",
   "version": "3.9.18"
  }
 },
 "nbformat": 4,
 "nbformat_minor": 4
}
