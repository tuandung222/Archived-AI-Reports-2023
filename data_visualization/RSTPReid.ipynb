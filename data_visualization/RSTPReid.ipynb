{
 "cells": [
  {
   "cell_type": "markdown",
   "metadata": {
    "tags": []
   },
   "source": [
    "# Introduction to dataset"
   ]
  },
  {
   "cell_type": "markdown",
   "metadata": {},
   "source": [
    "# Demo in notebook"
   ]
  },
  {
   "cell_type": "markdown",
   "metadata": {
    "tags": []
   },
   "source": [
    "## Set up"
   ]
  },
  {
   "cell_type": "code",
   "execution_count": 1,
   "metadata": {
    "tags": []
   },
   "outputs": [
    {
     "name": "stdout",
     "output_type": "stream",
     "text": [
      "/dscilab_dungvo/workspace/BA-PRE_THESIS/report/data_visualization\n"
     ]
    }
   ],
   "source": [
    "import numpy as np; import pandas as pd\n",
    "from pathlib import Path\n",
    "import os, sys, time, random, math, cv2, PIL, json\n",
    "import matplotlib.pyplot as plt; import seaborn as sns\n",
    "print(os.getcwd())"
   ]
  },
  {
   "cell_type": "code",
   "execution_count": 5,
   "metadata": {
    "tags": []
   },
   "outputs": [
    {
     "data": {
      "text/html": [
       "<div>\n",
       "<style scoped>\n",
       "    .dataframe tbody tr th:only-of-type {\n",
       "        vertical-align: middle;\n",
       "    }\n",
       "\n",
       "    .dataframe tbody tr th {\n",
       "        vertical-align: top;\n",
       "    }\n",
       "\n",
       "    .dataframe thead th {\n",
       "        text-align: right;\n",
       "    }\n",
       "</style>\n",
       "<table border=\"1\" class=\"dataframe\">\n",
       "  <thead>\n",
       "    <tr style=\"text-align: right;\">\n",
       "      <th></th>\n",
       "      <th>id</th>\n",
       "      <th>img_path</th>\n",
       "      <th>captions</th>\n",
       "      <th>split</th>\n",
       "    </tr>\n",
       "  </thead>\n",
       "  <tbody>\n",
       "    <tr>\n",
       "      <th>0</th>\n",
       "      <td>0</td>\n",
       "      <td>0000_c14_0031.jpg</td>\n",
       "      <td>[The man is wearing a grey jacket and a blue s...</td>\n",
       "      <td>train</td>\n",
       "    </tr>\n",
       "    <tr>\n",
       "      <th>1</th>\n",
       "      <td>0</td>\n",
       "      <td>0000_c14_0032.jpg</td>\n",
       "      <td>[He is wearing a grey jacket with a blue shirt...</td>\n",
       "      <td>train</td>\n",
       "    </tr>\n",
       "    <tr>\n",
       "      <th>2</th>\n",
       "      <td>0</td>\n",
       "      <td>0000_c1_0004.jpg</td>\n",
       "      <td>[This is a man wearing a grey jacket.He is wal...</td>\n",
       "      <td>train</td>\n",
       "    </tr>\n",
       "  </tbody>\n",
       "</table>\n",
       "</div>"
      ],
      "text/plain": [
       "   id           img_path                                           captions  \\\n",
       "0   0  0000_c14_0031.jpg  [The man is wearing a grey jacket and a blue s...   \n",
       "1   0  0000_c14_0032.jpg  [He is wearing a grey jacket with a blue shirt...   \n",
       "2   0   0000_c1_0004.jpg  [This is a man wearing a grey jacket.He is wal...   \n",
       "\n",
       "   split  \n",
       "0  train  \n",
       "1  train  \n",
       "2  train  "
      ]
     },
     "execution_count": 5,
     "metadata": {},
     "output_type": "execute_result"
    }
   ],
   "source": [
    "ROOT_PATH = Path('../../dataset_finetuning/RSTPReid')\n",
    "ROOT_IMG = ROOT_PATH/'imgs'\n",
    "caption_path = os.path.join(ROOT_PATH, \"data_captions.json\")\n",
    "caption_df = pd.read_json(caption_path)\n",
    "caption_df.head(3)"
   ]
  },
  {
   "cell_type": "markdown",
   "metadata": {},
   "source": [
    "__Split captions array into 2 caption__"
   ]
  },
  {
   "cell_type": "code",
   "execution_count": 6,
   "metadata": {
    "tags": []
   },
   "outputs": [],
   "source": [
    "caption_extract_0 = lambda x: x[0]\n",
    "caption_extract_1 = lambda x: x[1]\n",
    "filepath_convert = lambda x: os.path.join(ROOT_IMG, x)\n",
    "caption_df[\"caption_0\"] = caption_df[\"captions\"].apply(caption_extract_0)\n",
    "caption_df[\"caption_1\"] = caption_df[\"captions\"].apply(caption_extract_1)\n",
    "caption_df[\"img_path\"] = caption_df[\"img_path\"].apply(filepath_convert)\n",
    "caption_df.rename(columns={\"img_path\": \"image\"}, inplace=True)\n",
    "caption_df.drop(columns=[\"captions\"], inplace=True)\n",
    "caption_df.drop(columns=[\"split\"], inplace=True)\n",
    "\n",
    "caption_df.set_index(\"id\", inplace=True)"
   ]
  },
  {
   "cell_type": "markdown",
   "metadata": {},
   "source": [
    "## View dataset"
   ]
  },
  {
   "cell_type": "code",
   "execution_count": 4,
   "metadata": {
    "scrolled": true,
    "tags": []
   },
   "outputs": [
    {
     "data": {
      "text/html": [
       "<table border=\"1\" class=\"dataframe\">\n",
       "  <thead>\n",
       "    <tr style=\"text-align: right;\">\n",
       "      <th></th>\n",
       "      <th>image</th>\n",
       "      <th>split</th>\n",
       "      <th>caption_0</th>\n",
       "      <th>caption_1</th>\n",
       "    </tr>\n",
       "    <tr>\n",
       "      <th>id</th>\n",
       "      <th></th>\n",
       "      <th></th>\n",
       "      <th></th>\n",
       "      <th></th>\n",
       "    </tr>\n",
       "  </thead>\n",
       "  <tbody>\n",
       "    <tr>\n",
       "      <th>0</th>\n",
       "      <td><img src=\"../../dataset_finetuning/RSTPReid/imgs/0000_c14_0031.jpg\" width=\"184\" height=\"384\" ></td>\n",
       "      <td>train</td>\n",
       "      <td>The man is wearing a grey jacket and a blue shirt.His trousers are black and his shoes are brown.He is walking.</td>\n",
       "      <td>The man is a strong man who is in a grey jacket.His shirt is blue and his trousers is black.</td>\n",
       "    </tr>\n",
       "    <tr>\n",
       "      <th>0</th>\n",
       "      <td><img src=\"../../dataset_finetuning/RSTPReid/imgs/0000_c14_0032.jpg\" width=\"184\" height=\"384\" ></td>\n",
       "      <td>train</td>\n",
       "      <td>He is wearing a grey jacket with a blue shirt inside.He put his hands in his pockets.He is wearing a pair of glasses.He is carrying a black bag.</td>\n",
       "      <td>The man with glasses is wearing a grey jacket with a blue shirt inside. He has his hands in his pockets.</td>\n",
       "    </tr>\n",
       "    <tr>\n",
       "      <th>0</th>\n",
       "      <td><img src=\"../../dataset_finetuning/RSTPReid/imgs/0000_c1_0004.jpg\" width=\"184\" height=\"384\" ></td>\n",
       "      <td>train</td>\n",
       "      <td>This is a man wearing a grey jacket.He is walking with his hands in his pockets.His trousers are black.His shoes are brown.</td>\n",
       "      <td>The man is walking.He is wearing a dark grey jacket that is close.His trousers is black.He has a pair of brown shoes.</td>\n",
       "    </tr>\n",
       "    <tr>\n",
       "      <th>0</th>\n",
       "      <td><img src=\"../../dataset_finetuning/RSTPReid/imgs/0000_c5_0022.jpg\" width=\"184\" height=\"384\" ></td>\n",
       "      <td>train</td>\n",
       "      <td>The man is walking with a black bag.He wears a bright jacket and a pair of black trousers.His shoes is dark tanned.</td>\n",
       "      <td>A man with black hair, wearing glasses, a gray and black shirt, black pants and black shoes, carrying a black backpack, is walking, a hand in the pocket</td>\n",
       "    </tr>\n",
       "    <tr>\n",
       "      <th>0</th>\n",
       "      <td><img src=\"../../dataset_finetuning/RSTPReid/imgs/0000_c7_0015.jpg\" width=\"184\" height=\"384\" ></td>\n",
       "      <td>train</td>\n",
       "      <td>The man is walking.He is wearing a grey jacket and black trousers.His shoes are brown and his bag is black.He is looking around.</td>\n",
       "      <td>The man is walking while carrying a black backpack.His dark trousers are a bit tight.He has black short hair.His shoes are dark brown.</td>\n",
       "    </tr>\n",
       "    <tr>\n",
       "      <th>1</th>\n",
       "      <td><img src=\"../../dataset_finetuning/RSTPReid/imgs/0001_c14_0033.jpg\" width=\"184\" height=\"384\" ></td>\n",
       "      <td>train</td>\n",
       "      <td>The man is wearing a black coat and dark blue trousers. He walked with a black bag on his back.</td>\n",
       "      <td>A man with black hair, wearing glasses, a gray and black shirt, black pants and black shoes, carrying a black backpack, is walking, a hand in the pocket</td>\n",
       "    </tr>\n",
       "    <tr>\n",
       "      <th>1</th>\n",
       "      <td><img src=\"../../dataset_finetuning/RSTPReid/imgs/0001_c1_0003.jpg\" width=\"184\" height=\"384\" ></td>\n",
       "      <td>train</td>\n",
       "      <td>A man in a black jacket, dark trousers and a bag is walking with a plastic bag in his hand, looking at his mobile phone.</td>\n",
       "      <td>The man is walking.He is wearing a black overcoat and black trousers.He is carrying a bag.He is looking at his left hand with a pocket.</td>\n",
       "    </tr>\n",
       "    <tr>\n",
       "      <th>1</th>\n",
       "      <td><img src=\"../../dataset_finetuning/RSTPReid/imgs/0001_c1_0014.jpg\" width=\"184\" height=\"384\" ></td>\n",
       "      <td>train</td>\n",
       "      <td>A man with black hair, wearing glasses, a gray and black shirt, black pants and black shoes, carrying a black backpack, is walking, a hand in the pocket</td>\n",
       "      <td>The man is walking with a pocket in his hand.He is wearing a pair of glasses.He is wearing a black jacket and grey trousers.His shirt is blue and shoes are brown.</td>\n",
       "    </tr>\n",
       "    <tr>\n",
       "      <th>1</th>\n",
       "      <td><img src=\"../../dataset_finetuning/RSTPReid/imgs/0001_c5_0025.jpg\" width=\"184\" height=\"384\" ></td>\n",
       "      <td>train</td>\n",
       "      <td>The man with glasses is wearing a dark jacket，grey trousers and brown shoes. He is walking with a bag on his back and a plastic bag in his hand.</td>\n",
       "      <td>The man is wearing a tight black jacket and light grey trousers.A clear plastic bag is in his hand, and a black satchel slung over his shoulder.</td>\n",
       "    </tr>\n",
       "    <tr>\n",
       "      <th>1</th>\n",
       "      <td><img src=\"../../dataset_finetuning/RSTPReid/imgs/0001_c7_0018.jpg\" width=\"184\" height=\"384\" ></td>\n",
       "      <td>train</td>\n",
       "      <td>The man is walking with a pocket in his hand. He is wearing a black jacket and grey trousers. His shoes are brown. He is wearing a pair of glasses and looking around.</td>\n",
       "      <td>A man with black hair, wearing glasses, a gray and black shirt, black pants and black shoes, carrying a black backpack, is walking, a hand in the pocket</td>\n",
       "    </tr>\n",
       "  </tbody>\n",
       "</table>"
      ],
      "text/plain": [
       "<IPython.core.display.HTML object>"
      ]
     },
     "metadata": {},
     "output_type": "display_data"
    }
   ],
   "source": [
    "from IPython.core.display import HTML\n",
    "def to_img_tag(path):\n",
    "    return '<img src=\"' + path + '\" width=\"184\" height=\"384\" >'\n",
    "\n",
    "display(HTML(caption_df.head(10).to_html(escape=False, formatters=dict(image=to_img_tag))))"
   ]
  },
  {
   "cell_type": "code",
   "execution_count": 23,
   "metadata": {},
   "outputs": [],
   "source": [
    "def to_img_tag(path):\n",
    "    return '<img src=\"' + path + '\" width=\"50\" height=\"100\" >'\n",
    "\n",
    "\n",
    "html_display = HTML(caption_df.sample(10).to_html(escape=False, formatters=dict(image=to_img_tag)))\n",
    "\n",
    "# display with half fontsize\n",
    "html_display.data = html_display.data.replace('th>', 'th style=\"font-size: 13px\">')\n",
    "html_display.data = html_display.data.replace('td>', 'th style=\"font-size: 14px\">')\n"
   ]
  },
  {
   "cell_type": "code",
   "execution_count": 24,
   "metadata": {},
   "outputs": [
    {
     "data": {
      "text/html": [
       "<table border=\"1\" class=\"dataframe\">\n",
       "  <thead>\n",
       "    <tr style=\"text-align: right;\">\n",
       "      <th style=\"font-size: 13px\"></th style=\"font-size: 13px\">\n",
       "      <th style=\"font-size: 13px\">image</th style=\"font-size: 13px\">\n",
       "      <th style=\"font-size: 13px\">caption_0</th style=\"font-size: 13px\">\n",
       "      <th style=\"font-size: 13px\">caption_1</th style=\"font-size: 13px\">\n",
       "    </tr>\n",
       "    <tr>\n",
       "      <th style=\"font-size: 13px\">id</th style=\"font-size: 13px\">\n",
       "      <th style=\"font-size: 13px\"></th style=\"font-size: 13px\">\n",
       "      <th style=\"font-size: 13px\"></th style=\"font-size: 13px\">\n",
       "      <th style=\"font-size: 13px\"></th style=\"font-size: 13px\">\n",
       "    </tr>\n",
       "  </thead>\n",
       "  <tbody>\n",
       "    <tr>\n",
       "      <th style=\"font-size: 13px\">117</th style=\"font-size: 13px\">\n",
       "      <th style=\"font-size: 14px\"><img src=\"../../dataset_finetuning/RSTPReid/imgs/0117_c15_0020.jpg\" width=\"50\" height=\"100\" ></th style=\"font-size: 14px\">\n",
       "      <th style=\"font-size: 14px\">A woman was wearing a red coat, black tights and black sneakers. She walked in the street with her hands in her pockets.</th style=\"font-size: 14px\">\n",
       "      <th style=\"font-size: 14px\">A woman is wearing a red coat and black tights. Her hand is in her coat pocket. Her shoes are black.</th style=\"font-size: 14px\">\n",
       "    </tr>\n",
       "    <tr>\n",
       "      <th style=\"font-size: 13px\">3699</th style=\"font-size: 13px\">\n",
       "      <th style=\"font-size: 14px\"><img src=\"../../dataset_finetuning/RSTPReid/imgs/3699_c14_0059.jpg\" width=\"50\" height=\"100\" ></th style=\"font-size: 14px\">\n",
       "      <th style=\"font-size: 14px\">he man with short hair  is wearing a black jacket a piar of black pants and a  piar of black shoes.</th style=\"font-size: 14px\">\n",
       "      <th style=\"font-size: 14px\">A man in a black coat is walking on the road. He is wearing black jeans and black shoes. He is wearing glasses</th style=\"font-size: 14px\">\n",
       "    </tr>\n",
       "    <tr>\n",
       "      <th style=\"font-size: 13px\">254</th style=\"font-size: 13px\">\n",
       "      <th style=\"font-size: 14px\"><img src=\"../../dataset_finetuning/RSTPReid/imgs/0254_c7_0012.jpg\" width=\"50\" height=\"100\" ></th style=\"font-size: 14px\">\n",
       "      <th style=\"font-size: 14px\">A woman with black-rimmed glasses is walking down the road now in a long rose-colored coat, black tights, brown boots and a red-and-white bag on her back.</th style=\"font-size: 14px\">\n",
       "      <th style=\"font-size: 14px\">The woman with glasses was wearing a pink coat, black tights and brown boots. She was carrying a brown backpack. Her left hand is in her coat pocket and her right hand is carrying a blue handbag.</th style=\"font-size: 14px\">\n",
       "    </tr>\n",
       "    <tr>\n",
       "      <th style=\"font-size: 13px\">2790</th style=\"font-size: 13px\">\n",
       "      <th style=\"font-size: 14px\"><img src=\"../../dataset_finetuning/RSTPReid/imgs/2790_c1_0001.jpg\" width=\"50\" height=\"100\" ></th style=\"font-size: 14px\">\n",
       "      <th style=\"font-size: 14px\">A woman is wearing a white long down jacket that is open and a pair of black jeans. Her bag is yellow.</th style=\"font-size: 14px\">\n",
       "      <th style=\"font-size: 14px\">A girl wearing a long white cotton coat looks down at the phone. She is carrying a yellow bag, wearing glasses and wearing sneakers.</th style=\"font-size: 14px\">\n",
       "    </tr>\n",
       "    <tr>\n",
       "      <th style=\"font-size: 13px\">2629</th style=\"font-size: 13px\">\n",
       "      <th style=\"font-size: 14px\"><img src=\"../../dataset_finetuning/RSTPReid/imgs/2629_c1_0001.jpg\" width=\"50\" height=\"100\" ></th style=\"font-size: 14px\">\n",
       "      <th style=\"font-size: 14px\">the woman wears a black coat and black trousers. she has a pair of black shoes on her foot and a shoulder bag on her shoulder.</th style=\"font-size: 14px\">\n",
       "      <th style=\"font-size: 14px\">A woman who wears black leggings, a red overcoat and a scarf is walking with a black bag under the sunshine.</th style=\"font-size: 14px\">\n",
       "    </tr>\n",
       "    <tr>\n",
       "      <th style=\"font-size: 13px\">1113</th style=\"font-size: 13px\">\n",
       "      <th style=\"font-size: 14px\"><img src=\"../../dataset_finetuning/RSTPReid/imgs/1113_c1_0001.jpg\" width=\"50\" height=\"100\" ></th style=\"font-size: 14px\">\n",
       "      <th style=\"font-size: 14px\">A woman with a ponytail, glasses, black down jacket, black pants, and black boots. He is carrying a blue bag in one hand and a red shoulder bag.</th style=\"font-size: 14px\">\n",
       "      <th style=\"font-size: 14px\">The woman walking is wearing glasses. She was wearing a black down jacket, black shoes and trousers, carrying a red bag, holding a plastic bag with things in her hand, and a black scarf.</th style=\"font-size: 14px\">\n",
       "    </tr>\n",
       "    <tr>\n",
       "      <th style=\"font-size: 13px\">2388</th style=\"font-size: 13px\">\n",
       "      <th style=\"font-size: 14px\"><img src=\"../../dataset_finetuning/RSTPReid/imgs/2388_c7_0002.jpg\" width=\"50\" height=\"100\" ></th style=\"font-size: 14px\">\n",
       "      <th style=\"font-size: 14px\">A young girl is wearing a pink scarf, a black overcoat, a black pants and a pair of black and white shoes. She is holding a white bag.</th style=\"font-size: 14px\">\n",
       "      <th style=\"font-size: 14px\">This woman looks like a student and she wears a pink scarf, black coat with brown patches on both sleeves, and a pair of trainers while carrying a school bag in her left hand.</th style=\"font-size: 14px\">\n",
       "    </tr>\n",
       "    <tr>\n",
       "      <th style=\"font-size: 13px\">2492</th style=\"font-size: 13px\">\n",
       "      <th style=\"font-size: 14px\"><img src=\"../../dataset_finetuning/RSTPReid/imgs/2492_c14_0007.jpg\" width=\"50\" height=\"100\" ></th style=\"font-size: 14px\">\n",
       "      <th style=\"font-size: 14px\">This lady in a fashionable hat looks very charming and she is carrying a bucket bag, and wears a dark coat, a pair of blue jeans.</th style=\"font-size: 14px\">\n",
       "      <th style=\"font-size: 14px\">The woman with black hair is wearing a black coat with a black inside and dark blue jeans. She seems to have a bag in her hand.</th style=\"font-size: 14px\">\n",
       "    </tr>\n",
       "    <tr>\n",
       "      <th style=\"font-size: 13px\">1597</th style=\"font-size: 13px\">\n",
       "      <th style=\"font-size: 14px\"><img src=\"../../dataset_finetuning/RSTPReid/imgs/1597_c11_0004.jpg\" width=\"50\" height=\"100\" ></th style=\"font-size: 14px\">\n",
       "      <th style=\"font-size: 14px\">The man with short black hair wears a pair of galsses,a black down jacket,a pair of blue jeans and a pair of white shoes.He is walking</th style=\"font-size: 14px\">\n",
       "      <th style=\"font-size: 14px\">The man was wearing a black coat, black sweatpants, and gray shoes.He has short black hair.He's walking.He wears a pair of glasses.</th style=\"font-size: 14px\">\n",
       "    </tr>\n",
       "    <tr>\n",
       "      <th style=\"font-size: 13px\">2558</th style=\"font-size: 13px\">\n",
       "      <th style=\"font-size: 14px\"><img src=\"../../dataset_finetuning/RSTPReid/imgs/2558_c12_0001.jpg\" width=\"50\" height=\"100\" ></th style=\"font-size: 14px\">\n",
       "      <th style=\"font-size: 14px\">the old man wears a black coat and jeans. he have a pair of yellow shoes on his foot and a backpack on his back.</th style=\"font-size: 14px\">\n",
       "      <th style=\"font-size: 14px\">The man with glasses is walking past the camera. He is wearing a black-and-white plaid scarf, a black coat, blue jeans, dark shoes, and seems to be carrying a bag.</th style=\"font-size: 14px\">\n",
       "    </tr>\n",
       "  </tbody>\n",
       "</table>"
      ],
      "text/plain": [
       "<IPython.core.display.HTML object>"
      ]
     },
     "execution_count": 24,
     "metadata": {},
     "output_type": "execute_result"
    }
   ],
   "source": [
    "html_display"
   ]
  },
  {
   "cell_type": "code",
   "execution_count": null,
   "metadata": {},
   "outputs": [],
   "source": []
  }
 ],
 "metadata": {
  "kernelspec": {
   "display_name": "tbps",
   "language": "python",
   "name": "python3"
  },
  "language_info": {
   "codemirror_mode": {
    "name": "ipython",
    "version": 3
   },
   "file_extension": ".py",
   "mimetype": "text/x-python",
   "name": "python",
   "nbconvert_exporter": "python",
   "pygments_lexer": "ipython3",
   "version": "3.9.18"
  }
 },
 "nbformat": 4,
 "nbformat_minor": 4
}
