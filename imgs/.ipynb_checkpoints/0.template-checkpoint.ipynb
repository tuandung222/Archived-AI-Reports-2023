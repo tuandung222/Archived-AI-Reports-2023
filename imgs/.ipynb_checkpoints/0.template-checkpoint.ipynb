{
 "cells": [
  {
   "cell_type": "markdown",
   "id": "b5fb4fd6-f72c-4342-ac49-78777ffdd2a1",
   "metadata": {},
   "source": [
    "#  Paper Information"
   ]
  },
  {
   "cell_type": "markdown",
   "id": "5cbf1beb-2fe3-40f8-acd8-b9ef14e2346e",
   "metadata": {
    "tags": []
   },
   "source": [
    "# Main contribution"
   ]
  },
  {
   "cell_type": "code",
   "execution_count": null,
   "id": "9b6b607f-b92b-4e5f-9f68-982652e90b30",
   "metadata": {},
   "outputs": [],
   "source": []
  },
  {
   "cell_type": "markdown",
   "id": "e1eb9e31-bb9c-4efa-ae4b-8357be276105",
   "metadata": {},
   "source": [
    "# Evaluation"
   ]
  },
  {
   "cell_type": "code",
   "execution_count": null,
   "id": "ca2c9ae7-5a8b-4f6d-877e-945553222028",
   "metadata": {},
   "outputs": [],
   "source": []
  }
 ],
 "metadata": {
  "kernelspec": {
   "display_name": "Python 3 (ipykernel)",
   "language": "python",
   "name": "python3"
  },
  "language_info": {
   "codemirror_mode": {
    "name": "ipython",
    "version": 3
   },
   "file_extension": ".py",
   "mimetype": "text/x-python",
   "name": "python",
   "nbconvert_exporter": "python",
   "pygments_lexer": "ipython3",
   "version": "3.9.16"
  },
  "toc-autonumbering": true,
  "toc-showtags": false
 },
 "nbformat": 4,
 "nbformat_minor": 5
}
