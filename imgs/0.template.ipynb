{
 "cells": [
  {
   "cell_type": "markdown",
   "id": "b5fb4fd6-f72c-4342-ac49-78777ffdd2a1",
   "metadata": {
    "tags": []
   },
   "source": [
    "#  Paper Information"
   ]
  },
  {
   "cell_type": "markdown",
   "id": "6d1a26a4-9c54-434f-a0aa-02289c93b800",
   "metadata": {},
   "source": [
    "- __Paper title__:\n",
    "- __Date Published__:\n",
    "- __Conference__:\n",
    "- __Link github__:\n",
    "- __Link paper__:\n",
    "- __Benmark ranking__:"
   ]
  },
  {
   "cell_type": "markdown",
   "id": "5cbf1beb-2fe3-40f8-acd8-b9ef14e2346e",
   "metadata": {
    "tags": []
   },
   "source": [
    "# Overview/Main contribution"
   ]
  },
  {
   "cell_type": "markdown",
   "id": "6bdc0c95-c396-4dc5-bc33-d5172a4b5ca1",
   "metadata": {},
   "source": [
    "## Ancestor/Baseline papers"
   ]
  },
  {
   "cell_type": "markdown",
   "id": "a99f5de5-b72a-4af0-9a34-e92438376c7f",
   "metadata": {},
   "source": [
    "- For papers that this current paper is based on"
   ]
  },
  {
   "cell_type": "markdown",
   "id": "03ebc82d-3589-4357-8a3d-74437e979b95",
   "metadata": {},
   "source": [
    "### Paper 1:"
   ]
  },
  {
   "cell_type": "markdown",
   "id": "7cd6e422-798d-4936-9475-478130dfbe77",
   "metadata": {},
   "source": [
    "## Main contribution"
   ]
  },
  {
   "cell_type": "markdown",
   "id": "d45b7d68-0dd2-4a95-948a-128416975beb",
   "metadata": {},
   "source": [
    "### Contri 1"
   ]
  },
  {
   "cell_type": "markdown",
   "id": "e061193d-56a5-48fe-9fd8-d181d09e7fba",
   "metadata": {
    "tags": []
   },
   "source": [
    "# Overview Dataset"
   ]
  },
  {
   "cell_type": "markdown",
   "id": "f6a9f9b6-c6bc-460d-a73e-94fcc1bb0a7d",
   "metadata": {
    "tags": []
   },
   "source": [
    "## General Pretraining dataset"
   ]
  },
  {
   "cell_type": "markdown",
   "id": "d668e6c5-b1f0-4f24-905c-cef2b2afd6ac",
   "metadata": {},
   "source": [
    "### How paper created?"
   ]
  },
  {
   "cell_type": "markdown",
   "id": "5d6bbe5c-9816-4e9a-9bd3-8f3167a95851",
   "metadata": {
    "tags": []
   },
   "source": [
    "### Dataset properties"
   ]
  },
  {
   "cell_type": "markdown",
   "id": "177f1940-6dc9-4ee4-b47e-a6c4a2fc509d",
   "metadata": {},
   "source": [
    "### Label Format"
   ]
  },
  {
   "cell_type": "markdown",
   "id": "46e0053a-75f1-4d71-a3bd-63b20dffb8ab",
   "metadata": {},
   "source": [
    "- For paper that proposed new dataset"
   ]
  },
  {
   "cell_type": "markdown",
   "id": "97d80fe4-8c67-498f-aace-d760960d63f0",
   "metadata": {},
   "source": [
    "## Downstream dataset"
   ]
  },
  {
   "cell_type": "markdown",
   "id": "4acbd05f-bf03-4a2a-b5c3-60fd9f5caa7e",
   "metadata": {
    "tags": []
   },
   "source": [
    "# Model Architecture / Method"
   ]
  },
  {
   "cell_type": "markdown",
   "id": "8a7190e9-01cd-4a12-bd8d-8b2a68f65b2c",
   "metadata": {
    "tags": []
   },
   "source": [
    "## Architecture"
   ]
  },
  {
   "cell_type": "markdown",
   "id": "4fe66935-c648-4979-8612-c65d584cfcef",
   "metadata": {
    "tags": []
   },
   "source": [
    "### Image/Link to image"
   ]
  },
  {
   "cell_type": "markdown",
   "id": "8cb455dd-001d-4cec-b878-e744c7ffa7b3",
   "metadata": {
    "tags": []
   },
   "source": [
    "###  Main component"
   ]
  },
  {
   "cell_type": "markdown",
   "id": "25362074-b032-4249-95f6-315f27cb27cd",
   "metadata": {},
   "source": [
    "## Objective Functions"
   ]
  },
  {
   "cell_type": "markdown",
   "id": "420d9717-1910-45d3-b7f3-f0fc0659f378",
   "metadata": {
    "tags": []
   },
   "source": [
    "### Objective 1"
   ]
  },
  {
   "cell_type": "markdown",
   "id": "0eb5baf0-fed4-4dc1-a132-3b33bada57ac",
   "metadata": {},
   "source": [
    "__Input for loss function and How to sampling input__?"
   ]
  },
  {
   "cell_type": "markdown",
   "id": "e1eb9e31-bb9c-4efa-ae4b-8357be276105",
   "metadata": {},
   "source": [
    "# Training phase"
   ]
  },
  {
   "cell_type": "markdown",
   "id": "181e3549-c84b-479a-9deb-de7b17e82e81",
   "metadata": {
    "tags": []
   },
   "source": [
    "## Dataset & Data Augmentation"
   ]
  },
  {
   "cell_type": "markdown",
   "id": "1a6a8ccd-9844-40f5-837f-eb0a1310b1da",
   "metadata": {
    "tags": []
   },
   "source": [
    "## Implemention detail"
   ]
  },
  {
   "cell_type": "markdown",
   "id": "d550b4c4-0e13-4256-8ec1-49458c374463",
   "metadata": {},
   "source": [
    "## Evaluation result"
   ]
  },
  {
   "cell_type": "markdown",
   "id": "882674a7-ab76-40f6-b98d-0c5188164f29",
   "metadata": {
    "tags": []
   },
   "source": [
    "# Inference phase"
   ]
  },
  {
   "cell_type": "markdown",
   "id": "c2a6d466-fe7b-4c5b-9b0d-f3441598158a",
   "metadata": {
    "tags": []
   },
   "source": [
    "# Conclusion"
   ]
  },
  {
   "cell_type": "markdown",
   "id": "dac2760d-09a5-4dfb-8e3b-98e37e2dd706",
   "metadata": {
    "tags": []
   },
   "source": [
    "## New points in this paper"
   ]
  },
  {
   "cell_type": "markdown",
   "id": "99b49da1-b8f7-40c3-abe6-cf04caf5e74a",
   "metadata": {},
   "source": [
    "## Pro"
   ]
  },
  {
   "cell_type": "markdown",
   "id": "bee9d57a-e658-4405-b7a3-b9e61e0d6acb",
   "metadata": {
    "tags": []
   },
   "source": [
    "## Cons"
   ]
  },
  {
   "cell_type": "markdown",
   "id": "1c0f6fe5-3112-4c57-88dc-7574144925bf",
   "metadata": {
    "tags": []
   },
   "source": [
    "## How to improve?"
   ]
  },
  {
   "cell_type": "markdown",
   "id": "cba481f9-0c13-43a8-a7d8-59188f709f7d",
   "metadata": {
    "tags": []
   },
   "source": [
    "# Demo in notebook"
   ]
  },
  {
   "cell_type": "markdown",
   "id": "7f3bc759-2e35-40f7-bc76-f66d2486e942",
   "metadata": {
    "tags": []
   },
   "source": [
    "## Set up"
   ]
  },
  {
   "cell_type": "markdown",
   "id": "8648ca8a-d157-4bb7-bc32-046793875512",
   "metadata": {
    "tags": []
   },
   "source": [
    "### Define path"
   ]
  },
  {
   "cell_type": "markdown",
   "id": "92e34088-8626-40ac-88b6-c503b85ded78",
   "metadata": {
    "tags": []
   },
   "source": [
    "### Import libries / local modules"
   ]
  },
  {
   "cell_type": "markdown",
   "id": "5a3bdd5b-540f-4d45-98e6-46a17023b6fb",
   "metadata": {},
   "source": [
    "### Load config"
   ]
  },
  {
   "cell_type": "markdown",
   "id": "b9f056be-06bb-4fe3-a976-b57bfccf9285",
   "metadata": {
    "tags": []
   },
   "source": [
    "### Load model checkpoint"
   ]
  },
  {
   "cell_type": "markdown",
   "id": "40c0e721-f3e4-4496-9dc1-b4eed5c24282",
   "metadata": {},
   "source": [
    "## Get and summary model"
   ]
  },
  {
   "cell_type": "code",
   "execution_count": null,
   "id": "212d43a3-7b5e-4b5d-847d-8d140c430aaa",
   "metadata": {},
   "outputs": [],
   "source": []
  }
 ],
 "metadata": {
  "kernelspec": {
   "display_name": "Python 3 (ipykernel)",
   "language": "python",
   "name": "python3"
  },
  "language_info": {
   "codemirror_mode": {
    "name": "ipython",
    "version": 3
   },
   "file_extension": ".py",
   "mimetype": "text/x-python",
   "name": "python",
   "nbconvert_exporter": "python",
   "pygments_lexer": "ipython3",
   "version": "3.9.16"
  },
  "toc-autonumbering": true,
  "toc-showtags": false
 },
 "nbformat": 4,
 "nbformat_minor": 5
}
