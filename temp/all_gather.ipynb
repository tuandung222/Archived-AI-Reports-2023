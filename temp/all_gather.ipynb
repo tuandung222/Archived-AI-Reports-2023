{
 "cells": [
  {
   "cell_type": "markdown",
   "metadata": {},
   "source": []
  },
  {
   "cell_type": "code",
   "execution_count": null,
   "metadata": {},
   "outputs": [],
   "source": []
  },
  {
   "cell_type": "markdown",
   "metadata": {},
   "source": [
    "* Denote: \n",
    "\n",
    "    * $\\mathcal{L}(\\mathbf{A}->\\mathbf{B}) = \\mathbb{E}["
   ]
  },
  {
   "cell_type": "markdown",
   "metadata": {},
   "source": [
    "$\\mathcal{L}$ is the loss function, $I$ is the input, and $T$ is the target."
   ]
  },
  {
   "cell_type": "markdown",
   "metadata": {},
   "source": [
    "# E is expectued value of loss function\n",
    "$mathcal{L}(\\mathcal{A}->\\mathcal{B}) = \\mathbb{E}$"
   ]
  },
  {
   "cell_type": "markdown",
   "metadata": {},
   "source": []
  }
 ],
 "metadata": {
  "kernelspec": {
   "display_name": "tbps",
   "language": "python",
   "name": "python3"
  },
  "language_info": {
   "name": "python",
   "version": "3.9.18"
  }
 },
 "nbformat": 4,
 "nbformat_minor": 2
}
